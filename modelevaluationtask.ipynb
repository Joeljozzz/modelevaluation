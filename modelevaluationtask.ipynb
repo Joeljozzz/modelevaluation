{
  "cells": [
    {
      "cell_type": "markdown",
      "metadata": {
        "id": "view-in-github",
        "colab_type": "text"
      },
      "source": [
        "<a href=\"https://colab.research.google.com/github/joeljo2201/modelevaluation/blob/main/modelevaluationtask.ipynb\" target=\"_parent\"><img src=\"https://colab.research.google.com/assets/colab-badge.svg\" alt=\"Open In Colab\"/></a>"
      ]
    },
    {
      "cell_type": "code",
      "execution_count": null,
      "metadata": {
        "colab": {
          "base_uri": "https://localhost:8080/"
        },
        "id": "dUo1BPGTXtlp",
        "outputId": "5c37f1b1-eef2-45da-b98a-d507bab650e5"
      },
      "outputs": [
        {
          "output_type": "stream",
          "name": "stdout",
          "text": [
            "Cloning into 'epftoolbox'...\n",
            "remote: Enumerating objects: 525, done.\u001b[K\n",
            "remote: Total 525 (delta 0), reused 0 (delta 0), pack-reused 525\n",
            "Receiving objects: 100% (525/525), 23.68 MiB | 22.27 MiB/s, done.\n",
            "Resolving deltas: 100% (299/299), done.\n"
          ]
        }
      ],
      "source": [
        "!git clone https://github.com/jeslago/epftoolbox.git\n"
      ]
    },
    {
      "cell_type": "code",
      "execution_count": null,
      "metadata": {
        "colab": {
          "base_uri": "https://localhost:8080/"
        },
        "id": "YGGmGSCsYlEc",
        "outputId": "8e73513d-3cfc-4aac-e1cf-a196eba8ccf5"
      },
      "outputs": [
        {
          "output_type": "stream",
          "name": "stdout",
          "text": [
            "/content/epftoolbox\n"
          ]
        }
      ],
      "source": [
        "!cd epftoolbox"
      ]
    },
    {
      "cell_type": "code",
      "execution_count": null,
      "metadata": {
        "colab": {
          "base_uri": "https://localhost:8080/"
        },
        "id": "nT8x8p5KYyDf",
        "outputId": "4e7a8839-33b0-4da0-9dee-b9a5a30faf26"
      },
      "outputs": [
        {
          "output_type": "stream",
          "name": "stdout",
          "text": [
            "Looking in indexes: https://pypi.org/simple, https://us-python.pkg.dev/colab-wheels/public/simple/\n",
            "Processing /content/epftoolbox\n",
            "\u001b[33m  DEPRECATION: A future pip version will change local packages to be built in-place without first copying to a temporary directory. We recommend you use --use-feature=in-tree-build to test your packages with this new behavior before it becomes the default.\n",
            "   pip 21.3 will remove support for this functionality. You can find discussion regarding this at https://github.com/pypa/pip/issues/7555.\u001b[0m\n",
            "Requirement already satisfied: hyperopt>=0.2 in /usr/local/lib/python3.7/dist-packages (from epftoolbox==1.0) (0.2.7)\n",
            "Requirement already satisfied: tensorflow>=2.2 in /usr/local/lib/python3.7/dist-packages (from epftoolbox==1.0) (2.8.0+zzzcolab20220506162203)\n",
            "Requirement already satisfied: scikit-learn>=0.22 in /usr/local/lib/python3.7/dist-packages (from epftoolbox==1.0) (1.0.2)\n",
            "Requirement already satisfied: pandas>=1 in /usr/local/lib/python3.7/dist-packages (from epftoolbox==1.0) (1.3.5)\n",
            "Requirement already satisfied: numpy>=1 in /usr/local/lib/python3.7/dist-packages (from epftoolbox==1.0) (1.21.6)\n",
            "Requirement already satisfied: statsmodels>=0.11 in /usr/local/lib/python3.7/dist-packages (from epftoolbox==1.0) (0.13.2)\n",
            "Requirement already satisfied: matplotlib>=3 in /usr/local/lib/python3.7/dist-packages (from epftoolbox==1.0) (3.2.2)\n",
            "Requirement already satisfied: scipy>=1.4 in /usr/local/lib/python3.7/dist-packages (from epftoolbox==1.0) (1.4.1)\n",
            "Requirement already satisfied: py4j in /usr/local/lib/python3.7/dist-packages (from hyperopt>=0.2->epftoolbox==1.0) (0.10.9.5)\n",
            "Requirement already satisfied: future in /usr/local/lib/python3.7/dist-packages (from hyperopt>=0.2->epftoolbox==1.0) (0.16.0)\n",
            "Requirement already satisfied: cloudpickle in /usr/local/lib/python3.7/dist-packages (from hyperopt>=0.2->epftoolbox==1.0) (1.3.0)\n",
            "Requirement already satisfied: tqdm in /usr/local/lib/python3.7/dist-packages (from hyperopt>=0.2->epftoolbox==1.0) (4.64.0)\n",
            "Requirement already satisfied: six in /usr/local/lib/python3.7/dist-packages (from hyperopt>=0.2->epftoolbox==1.0) (1.15.0)\n",
            "Requirement already satisfied: networkx>=2.2 in /usr/local/lib/python3.7/dist-packages (from hyperopt>=0.2->epftoolbox==1.0) (2.6.3)\n",
            "Requirement already satisfied: python-dateutil>=2.1 in /usr/local/lib/python3.7/dist-packages (from matplotlib>=3->epftoolbox==1.0) (2.8.2)\n",
            "Requirement already satisfied: kiwisolver>=1.0.1 in /usr/local/lib/python3.7/dist-packages (from matplotlib>=3->epftoolbox==1.0) (1.4.2)\n",
            "Requirement already satisfied: pyparsing!=2.0.4,!=2.1.2,!=2.1.6,>=2.0.1 in /usr/local/lib/python3.7/dist-packages (from matplotlib>=3->epftoolbox==1.0) (3.0.9)\n",
            "Requirement already satisfied: cycler>=0.10 in /usr/local/lib/python3.7/dist-packages (from matplotlib>=3->epftoolbox==1.0) (0.11.0)\n",
            "Requirement already satisfied: typing-extensions in /usr/local/lib/python3.7/dist-packages (from kiwisolver>=1.0.1->matplotlib>=3->epftoolbox==1.0) (4.2.0)\n",
            "Requirement already satisfied: pytz>=2017.3 in /usr/local/lib/python3.7/dist-packages (from pandas>=1->epftoolbox==1.0) (2022.1)\n",
            "Requirement already satisfied: threadpoolctl>=2.0.0 in /usr/local/lib/python3.7/dist-packages (from scikit-learn>=0.22->epftoolbox==1.0) (3.1.0)\n",
            "Requirement already satisfied: joblib>=0.11 in /usr/local/lib/python3.7/dist-packages (from scikit-learn>=0.22->epftoolbox==1.0) (1.1.0)\n",
            "Requirement already satisfied: patsy>=0.5.2 in /usr/local/lib/python3.7/dist-packages (from statsmodels>=0.11->epftoolbox==1.0) (0.5.2)\n",
            "Requirement already satisfied: packaging>=21.3 in /usr/local/lib/python3.7/dist-packages (from statsmodels>=0.11->epftoolbox==1.0) (21.3)\n",
            "Requirement already satisfied: keras<2.9,>=2.8.0rc0 in /usr/local/lib/python3.7/dist-packages (from tensorflow>=2.2->epftoolbox==1.0) (2.8.0)\n",
            "Requirement already satisfied: wrapt>=1.11.0 in /usr/local/lib/python3.7/dist-packages (from tensorflow>=2.2->epftoolbox==1.0) (1.14.1)\n",
            "Requirement already satisfied: tensorboard<2.9,>=2.8 in /usr/local/lib/python3.7/dist-packages (from tensorflow>=2.2->epftoolbox==1.0) (2.8.0)\n",
            "Requirement already satisfied: absl-py>=0.4.0 in /usr/local/lib/python3.7/dist-packages (from tensorflow>=2.2->epftoolbox==1.0) (1.0.0)\n",
            "Requirement already satisfied: termcolor>=1.1.0 in /usr/local/lib/python3.7/dist-packages (from tensorflow>=2.2->epftoolbox==1.0) (1.1.0)\n",
            "Requirement already satisfied: gast>=0.2.1 in /usr/local/lib/python3.7/dist-packages (from tensorflow>=2.2->epftoolbox==1.0) (0.5.3)\n",
            "Requirement already satisfied: keras-preprocessing>=1.1.1 in /usr/local/lib/python3.7/dist-packages (from tensorflow>=2.2->epftoolbox==1.0) (1.1.2)\n",
            "Requirement already satisfied: setuptools in /usr/local/lib/python3.7/dist-packages (from tensorflow>=2.2->epftoolbox==1.0) (57.4.0)\n",
            "Requirement already satisfied: grpcio<2.0,>=1.24.3 in /usr/local/lib/python3.7/dist-packages (from tensorflow>=2.2->epftoolbox==1.0) (1.46.1)\n",
            "Requirement already satisfied: flatbuffers>=1.12 in /usr/local/lib/python3.7/dist-packages (from tensorflow>=2.2->epftoolbox==1.0) (2.0)\n",
            "Requirement already satisfied: protobuf>=3.9.2 in /usr/local/lib/python3.7/dist-packages (from tensorflow>=2.2->epftoolbox==1.0) (3.17.3)\n",
            "Requirement already satisfied: tf-estimator-nightly==2.8.0.dev2021122109 in /usr/local/lib/python3.7/dist-packages (from tensorflow>=2.2->epftoolbox==1.0) (2.8.0.dev2021122109)\n",
            "Requirement already satisfied: google-pasta>=0.1.1 in /usr/local/lib/python3.7/dist-packages (from tensorflow>=2.2->epftoolbox==1.0) (0.2.0)\n",
            "Requirement already satisfied: h5py>=2.9.0 in /usr/local/lib/python3.7/dist-packages (from tensorflow>=2.2->epftoolbox==1.0) (3.1.0)\n",
            "Requirement already satisfied: tensorflow-io-gcs-filesystem>=0.23.1 in /usr/local/lib/python3.7/dist-packages (from tensorflow>=2.2->epftoolbox==1.0) (0.26.0)\n",
            "Requirement already satisfied: astunparse>=1.6.0 in /usr/local/lib/python3.7/dist-packages (from tensorflow>=2.2->epftoolbox==1.0) (1.6.3)\n",
            "Requirement already satisfied: opt-einsum>=2.3.2 in /usr/local/lib/python3.7/dist-packages (from tensorflow>=2.2->epftoolbox==1.0) (3.3.0)\n",
            "Requirement already satisfied: libclang>=9.0.1 in /usr/local/lib/python3.7/dist-packages (from tensorflow>=2.2->epftoolbox==1.0) (14.0.1)\n",
            "Requirement already satisfied: wheel<1.0,>=0.23.0 in /usr/local/lib/python3.7/dist-packages (from astunparse>=1.6.0->tensorflow>=2.2->epftoolbox==1.0) (0.37.1)\n",
            "Requirement already satisfied: cached-property in /usr/local/lib/python3.7/dist-packages (from h5py>=2.9.0->tensorflow>=2.2->epftoolbox==1.0) (1.5.2)\n",
            "Requirement already satisfied: google-auth<3,>=1.6.3 in /usr/local/lib/python3.7/dist-packages (from tensorboard<2.9,>=2.8->tensorflow>=2.2->epftoolbox==1.0) (1.35.0)\n",
            "Requirement already satisfied: tensorboard-plugin-wit>=1.6.0 in /usr/local/lib/python3.7/dist-packages (from tensorboard<2.9,>=2.8->tensorflow>=2.2->epftoolbox==1.0) (1.8.1)\n",
            "Requirement already satisfied: tensorboard-data-server<0.7.0,>=0.6.0 in /usr/local/lib/python3.7/dist-packages (from tensorboard<2.9,>=2.8->tensorflow>=2.2->epftoolbox==1.0) (0.6.1)\n",
            "Requirement already satisfied: werkzeug>=0.11.15 in /usr/local/lib/python3.7/dist-packages (from tensorboard<2.9,>=2.8->tensorflow>=2.2->epftoolbox==1.0) (1.0.1)\n",
            "Requirement already satisfied: requests<3,>=2.21.0 in /usr/local/lib/python3.7/dist-packages (from tensorboard<2.9,>=2.8->tensorflow>=2.2->epftoolbox==1.0) (2.23.0)\n",
            "Requirement already satisfied: google-auth-oauthlib<0.5,>=0.4.1 in /usr/local/lib/python3.7/dist-packages (from tensorboard<2.9,>=2.8->tensorflow>=2.2->epftoolbox==1.0) (0.4.6)\n",
            "Requirement already satisfied: markdown>=2.6.8 in /usr/local/lib/python3.7/dist-packages (from tensorboard<2.9,>=2.8->tensorflow>=2.2->epftoolbox==1.0) (3.3.7)\n",
            "Requirement already satisfied: rsa<5,>=3.1.4 in /usr/local/lib/python3.7/dist-packages (from google-auth<3,>=1.6.3->tensorboard<2.9,>=2.8->tensorflow>=2.2->epftoolbox==1.0) (4.8)\n",
            "Requirement already satisfied: pyasn1-modules>=0.2.1 in /usr/local/lib/python3.7/dist-packages (from google-auth<3,>=1.6.3->tensorboard<2.9,>=2.8->tensorflow>=2.2->epftoolbox==1.0) (0.2.8)\n",
            "Requirement already satisfied: cachetools<5.0,>=2.0.0 in /usr/local/lib/python3.7/dist-packages (from google-auth<3,>=1.6.3->tensorboard<2.9,>=2.8->tensorflow>=2.2->epftoolbox==1.0) (4.2.4)\n",
            "Requirement already satisfied: requests-oauthlib>=0.7.0 in /usr/local/lib/python3.7/dist-packages (from google-auth-oauthlib<0.5,>=0.4.1->tensorboard<2.9,>=2.8->tensorflow>=2.2->epftoolbox==1.0) (1.3.1)\n",
            "Requirement already satisfied: importlib-metadata>=4.4 in /usr/local/lib/python3.7/dist-packages (from markdown>=2.6.8->tensorboard<2.9,>=2.8->tensorflow>=2.2->epftoolbox==1.0) (4.11.3)\n",
            "Requirement already satisfied: zipp>=0.5 in /usr/local/lib/python3.7/dist-packages (from importlib-metadata>=4.4->markdown>=2.6.8->tensorboard<2.9,>=2.8->tensorflow>=2.2->epftoolbox==1.0) (3.8.0)\n",
            "Requirement already satisfied: pyasn1<0.5.0,>=0.4.6 in /usr/local/lib/python3.7/dist-packages (from pyasn1-modules>=0.2.1->google-auth<3,>=1.6.3->tensorboard<2.9,>=2.8->tensorflow>=2.2->epftoolbox==1.0) (0.4.8)\n",
            "Requirement already satisfied: chardet<4,>=3.0.2 in /usr/local/lib/python3.7/dist-packages (from requests<3,>=2.21.0->tensorboard<2.9,>=2.8->tensorflow>=2.2->epftoolbox==1.0) (3.0.4)\n",
            "Requirement already satisfied: certifi>=2017.4.17 in /usr/local/lib/python3.7/dist-packages (from requests<3,>=2.21.0->tensorboard<2.9,>=2.8->tensorflow>=2.2->epftoolbox==1.0) (2022.5.18.1)\n",
            "Requirement already satisfied: idna<3,>=2.5 in /usr/local/lib/python3.7/dist-packages (from requests<3,>=2.21.0->tensorboard<2.9,>=2.8->tensorflow>=2.2->epftoolbox==1.0) (2.10)\n",
            "Requirement already satisfied: urllib3!=1.25.0,!=1.25.1,<1.26,>=1.21.1 in /usr/local/lib/python3.7/dist-packages (from requests<3,>=2.21.0->tensorboard<2.9,>=2.8->tensorflow>=2.2->epftoolbox==1.0) (1.24.3)\n",
            "Requirement already satisfied: oauthlib>=3.0.0 in /usr/local/lib/python3.7/dist-packages (from requests-oauthlib>=0.7.0->google-auth-oauthlib<0.5,>=0.4.1->tensorboard<2.9,>=2.8->tensorflow>=2.2->epftoolbox==1.0) (3.2.0)\n",
            "Building wheels for collected packages: epftoolbox\n",
            "  Building wheel for epftoolbox (setup.py) ... \u001b[?25l\u001b[?25hdone\n",
            "  Created wheel for epftoolbox: filename=epftoolbox-1.0-py3-none-any.whl size=66419 sha256=be121a4cd6bf748934a0eb7a74d3833eea8e355b0dd05ea651fe8554b8e1286b\n",
            "  Stored in directory: /tmp/pip-ephem-wheel-cache-6yo69uns/wheels/06/b5/e7/02ff8b49a8bcb96199cd1c61796efa62c3e0a1a6a30807e150\n",
            "Successfully built epftoolbox\n",
            "Installing collected packages: epftoolbox\n",
            "  Attempting uninstall: epftoolbox\n",
            "    Found existing installation: epftoolbox 1.0\n",
            "    Uninstalling epftoolbox-1.0:\n",
            "      Successfully uninstalled epftoolbox-1.0\n",
            "Successfully installed epftoolbox-1.0\n"
          ]
        }
      ],
      "source": [
        "!pip install ."
      ]
    },
    {
      "cell_type": "code",
      "execution_count": null,
      "metadata": {
        "id": "6KbkO4rXY-z9"
      },
      "outputs": [],
      "source": [
        "import pandas as pd\n",
        "import numpy as np\n",
        "import argparse\n",
        "import os\n",
        "from epftoolbox.data import read_data\n",
        "from epftoolbox.evaluation import MAE, sMAPE\n",
        "from epftoolbox.models import LEAR\n",
        "from epftoolbox.data import read_data\n",
        "from epftoolbox.evaluation import MAE, sMAPE\n",
        "from epftoolbox.models import DNN"
      ]
    },
    {
      "cell_type": "code",
      "execution_count": null,
      "metadata": {
        "colab": {
          "base_uri": "https://localhost:8080/"
        },
        "id": "t0t7tTOYZJR9",
        "outputId": "92f4aab9-3555-4199-e4cd-9d9958601b46"
      },
      "outputs": [
        {
          "output_type": "stream",
          "name": "stdout",
          "text": [
            "Test datasets: 2017-12-26 00:00:00 - 2018-01-26 23:00:00\n",
            "2017-12-26 - sMAPE: 7.57%  |  MAE: 2.298\n",
            "2017-12-27 - sMAPE: 10.26%  |  MAE: 3.659\n",
            "2017-12-28 - sMAPE: 16.04%  |  MAE: 6.883\n",
            "2017-12-29 - sMAPE: 20.70%  |  MAE: 9.560\n",
            "2017-12-30 - sMAPE: 22.37%  |  MAE: 9.787\n",
            "2017-12-31 - sMAPE: 21.99%  |  MAE: 9.416\n",
            "2018-01-01 - sMAPE: 20.87%  |  MAE: 8.922\n",
            "2018-01-02 - sMAPE: 22.97%  |  MAE: 10.890\n",
            "2018-01-03 - sMAPE: 23.75%  |  MAE: 11.863\n",
            "2018-01-04 - sMAPE: 23.58%  |  MAE: 12.297\n",
            "2018-01-05 - sMAPE: 23.58%  |  MAE: 12.957\n",
            "2018-01-06 - sMAPE: 27.69%  |  MAE: 14.332\n",
            "2018-01-07 - sMAPE: 27.56%  |  MAE: 13.919\n",
            "2018-01-08 - sMAPE: 26.62%  |  MAE: 13.323\n",
            "2018-01-09 - sMAPE: 27.12%  |  MAE: 13.299\n",
            "2018-01-10 - sMAPE: 27.63%  |  MAE: 13.032\n",
            "2018-01-11 - sMAPE: 27.78%  |  MAE: 12.509\n",
            "2018-01-12 - sMAPE: 26.78%  |  MAE: 11.962\n",
            "2018-01-13 - sMAPE: 26.99%  |  MAE: 12.066\n",
            "2018-01-14 - sMAPE: 27.52%  |  MAE: 12.405\n",
            "2018-01-15 - sMAPE: 27.13%  |  MAE: 12.263\n",
            "2018-01-16 - sMAPE: 26.29%  |  MAE: 11.874\n",
            "2018-01-17 - sMAPE: 26.18%  |  MAE: 11.872\n",
            "2018-01-18 - sMAPE: 25.85%  |  MAE: 11.657\n",
            "2018-01-19 - sMAPE: 25.38%  |  MAE: 11.360\n",
            "2018-01-20 - sMAPE: 24.85%  |  MAE: 11.017\n",
            "2018-01-21 - sMAPE: 24.21%  |  MAE: 10.677\n",
            "2018-01-22 - sMAPE: 23.87%  |  MAE: 10.421\n",
            "2018-01-23 - sMAPE: 23.40%  |  MAE: 10.158\n",
            "2018-01-24 - sMAPE: 22.82%  |  MAE: 9.877\n",
            "2018-01-25 - sMAPE: 22.30%  |  MAE: 9.629\n",
            "2018-01-26 - sMAPE: 21.96%  |  MAE: 9.420\n"
          ]
        }
      ],
      "source": [
        "# ------------------------------ EXTERNAL PARAMETERS ------------------------------------#\n",
        "\n",
        "\n",
        "parser = argparse.ArgumentParser()\n",
        "\n",
        "parser.add_argument(\"--dataset\", type=str, default='PJM', \n",
        "                    help='Market under study. If it not one of the standard ones, the file name' +\n",
        "                         'has to be provided, where the file has to be a csv file')\n",
        "\n",
        "parser.add_argument(\"--years_test\", type=int, default=1, \n",
        "                    help='Number of years (a year is 364 days) in the test dataset. Used if ' +\n",
        "                    ' begin_test_date and end_test_date are not provided.')\n",
        "\n",
        "parser.add_argument(\"--calibration_window\", type=int, default=4*364, \n",
        "                    help='Number of days used in the training dataset for recalibration')\n",
        "\n",
        "parser.add_argument(\"--begin_test_date\", type=str, default='26/12/2017 0:0', \n",
        "                    help='Optional parameter to select the /test dataset. Used in combination with ' +\n",
        "                         'end_test_date. If either of them is not provided, test dataset is built ' +\n",
        "                         'using the years_test parameter. It should either be  a string with the ' +\n",
        "                         ' following format d/m/Y H:M')\n",
        "\n",
        "parser.add_argument(\"--end_test_date\", type=str, default='26/01/2018 0:0', \n",
        "                    help='Optional parameter to select the test dataset. Used in combination with ' +\n",
        "                         'begin_test_date. If either of them is not provided, test dataset is built ' +\n",
        "                         'using the years_test parameter. It should either be  a string with the ' +\n",
        "                         ' following format d/m/Y H:M')\n",
        "parser.add_argument('-f')\n",
        "args = parser.parse_args()\n",
        "\n",
        "dataset = args.dataset\n",
        "years_test = args.years_test\n",
        "calibration_window = args.calibration_window\n",
        "begin_test_date = args.begin_test_date\n",
        "end_test_date = args.end_test_date\n",
        "\n",
        "path_datasets_folder = os.path.join('.', 'datasets')\n",
        "path_recalibration_folder = os.path.join('.', '/content/epftoolbox/examples/experimental_files')\n",
        "\n",
        "# Defining train and testing data\n",
        "df_train, df_test = read_data(dataset=dataset, years_test=years_test, path=path_datasets_folder,\n",
        "                              begin_test_date=begin_test_date, end_test_date=end_test_date)\n",
        "\n",
        "# Defining unique name to save the forecast\n",
        "forecast_file_name = 'fc_nl' + '_dat' + str(dataset) + '_YT' + str(years_test) + \\\n",
        "                     '_CW' + str(calibration_window) + '.csv'\n",
        "\n",
        "forecast_file_path = os.path.join(path_recalibration_folder, forecast_file_name)\n",
        "\n",
        "\n",
        "# Defining empty forecast array and the real values to be predicted in a more friendly format\n",
        "forecast = pd.DataFrame(index=df_test.index[::24], columns=['h' + str(k) for k in range(24)])\n",
        "real_values = df_test.loc[:, ['Price']].values.reshape(-1, 24)\n",
        "real_values = pd.DataFrame(real_values, index=forecast.index, columns=forecast.columns)\n",
        "\n",
        "forecast_dates = forecast.index\n",
        "\n",
        "model = LEAR(calibration_window=calibration_window)\n",
        "\n",
        "\n",
        "\n",
        "df = pd.DataFrame({'MAE' : [], 'SMAE':[]})\n",
        "# For loop over the recalibration dates\n",
        "for date in forecast_dates:\n",
        "\n",
        "    ls=[]\n",
        "    # For simulation purposes, we assume that the available data is\n",
        "    # the data up to current date where the prices of current date are not known\n",
        "    data_available = pd.concat([df_train, df_test.loc[:date + pd.Timedelta(hours=23), :]], axis=0)\n",
        "\n",
        "    # We set the real prices for current date to NaN in the dataframe of available data\n",
        "    data_available.loc[date:date + pd.Timedelta(hours=23), 'Price'] = np.NaN\n",
        "\n",
        "    # Recalibrating the model with the most up-to-date available data and making a prediction\n",
        "    # for the next day\n",
        "    Yp = model.recalibrate_and_forecast_next_day(df=data_available, next_day_date=date, \n",
        "                                                 calibration_window=calibration_window)\n",
        "    # Saving the current prediction\n",
        "    forecast.loc[date, :] = Yp\n",
        "\n",
        "    # Computing metrics up-to-current-date\n",
        "    mae = np.mean(MAE(forecast.loc[:date].values.squeeze(), real_values.loc[:date].values)) \n",
        "    smape = np.mean(sMAPE(forecast.loc[:date].values.squeeze(), real_values.loc[:date].values)) * 100\n",
        "    ls=[mae,smape]\n",
        "    df.loc[len(df.index)]=ls\n",
        "    # Pringint information\n",
        "    print('{} - sMAPE: {:.2f}%  |  MAE: {:.3f}'.format(str(date)[:10], smape, mae))\n",
        "\n",
        "    # Saving forecast\n",
        "    forecast.to_csv(forecast_file_path)\n",
        "df.to_csv(\"Learerrorvalues.csv\")\n"
      ]
    },
    {
      "cell_type": "code",
      "execution_count": null,
      "metadata": {
        "colab": {
          "base_uri": "https://localhost:8080/"
        },
        "id": "4NTaS_16jENv",
        "outputId": "0d191864-6669-4bf8-ac68-b35cdbf6e7f8"
      },
      "outputs": [
        {
          "output_type": "stream",
          "name": "stderr",
          "text": [
            "/usr/local/lib/python3.7/dist-packages/keras/optimizer_v2/adam.py:105: UserWarning: The `lr` argument is deprecated, use `learning_rate` instead.\n",
            "  super(Adam, self).__init__(name, **kwargs)\n"
          ]
        },
        {
          "output_type": "stream",
          "name": "stdout",
          "text": [
            "\n",
            "\n",
            "Tested 1/20 iterations.\n",
            "Best MAE - Validation Dataset\n",
            "  MAE: 4.3 | sMAPE: 15.40 %\n",
            "\n",
            "Best MAE - Test Dataset\n",
            "  MAE: 6.3 | sMAPE: 22.01 %\n",
            "\n",
            "\n",
            "Tested 2/20 iterations.\n",
            "Best MAE - Validation Dataset\n",
            "  MAE: 4.3 | sMAPE: 15.40 %\n",
            "\n",
            "Best MAE - Test Dataset\n",
            "  MAE: 6.3 | sMAPE: 22.01 %\n",
            "\n",
            "\n",
            "Tested 3/20 iterations.\n",
            "Best MAE - Validation Dataset\n",
            "  MAE: 2.8 | sMAPE: 10.72 %\n",
            "\n",
            "Best MAE - Test Dataset\n",
            "  MAE: 4.2 | sMAPE: 15.69 %\n"
          ]
        },
        {
          "output_type": "stream",
          "name": "stderr",
          "text": [
            "/usr/local/lib/python3.7/dist-packages/keras/optimizer_v2/adam.py:105: UserWarning: The `lr` argument is deprecated, use `learning_rate` instead.\n",
            "  super(Adam, self).__init__(name, **kwargs)\n"
          ]
        },
        {
          "output_type": "stream",
          "name": "stdout",
          "text": [
            "\n",
            "\n",
            "Tested 4/20 iterations.\n",
            "Best MAE - Validation Dataset\n",
            "  MAE: 2.8 | sMAPE: 10.72 %\n",
            "\n",
            "Best MAE - Test Dataset\n",
            "  MAE: 4.2 | sMAPE: 15.69 %\n"
          ]
        },
        {
          "output_type": "stream",
          "name": "stderr",
          "text": [
            "/usr/local/lib/python3.7/dist-packages/keras/optimizer_v2/adam.py:105: UserWarning: The `lr` argument is deprecated, use `learning_rate` instead.\n",
            "  super(Adam, self).__init__(name, **kwargs)\n"
          ]
        },
        {
          "output_type": "stream",
          "name": "stdout",
          "text": [
            "\n",
            "\n",
            "Tested 5/20 iterations.\n",
            "Best MAE - Validation Dataset\n",
            "  MAE: 2.8 | sMAPE: 10.72 %\n",
            "\n",
            "Best MAE - Test Dataset\n",
            "  MAE: 4.2 | sMAPE: 15.69 %\n"
          ]
        },
        {
          "output_type": "stream",
          "name": "stderr",
          "text": [
            "/usr/local/lib/python3.7/dist-packages/keras/optimizer_v2/adam.py:105: UserWarning: The `lr` argument is deprecated, use `learning_rate` instead.\n",
            "  super(Adam, self).__init__(name, **kwargs)\n"
          ]
        },
        {
          "output_type": "stream",
          "name": "stdout",
          "text": [
            "\n",
            "\n",
            "Tested 6/20 iterations.\n",
            "Best MAE - Validation Dataset\n",
            "  MAE: 2.6 | sMAPE: 10.01 %\n",
            "\n",
            "Best MAE - Test Dataset\n",
            "  MAE: 4.3 | sMAPE: 15.48 %\n"
          ]
        },
        {
          "output_type": "stream",
          "name": "stderr",
          "text": [
            "/usr/local/lib/python3.7/dist-packages/keras/optimizer_v2/adam.py:105: UserWarning: The `lr` argument is deprecated, use `learning_rate` instead.\n",
            "  super(Adam, self).__init__(name, **kwargs)\n"
          ]
        },
        {
          "output_type": "stream",
          "name": "stdout",
          "text": [
            "\n",
            "\n",
            "Tested 7/20 iterations.\n",
            "Best MAE - Validation Dataset\n",
            "  MAE: 2.6 | sMAPE: 10.01 %\n",
            "\n",
            "Best MAE - Test Dataset\n",
            "  MAE: 4.3 | sMAPE: 15.48 %\n"
          ]
        },
        {
          "output_type": "stream",
          "name": "stderr",
          "text": [
            "/usr/local/lib/python3.7/dist-packages/keras/optimizer_v2/adam.py:105: UserWarning: The `lr` argument is deprecated, use `learning_rate` instead.\n",
            "  super(Adam, self).__init__(name, **kwargs)\n"
          ]
        },
        {
          "output_type": "stream",
          "name": "stdout",
          "text": [
            "\n",
            "\n",
            "Tested 8/20 iterations.\n",
            "Best MAE - Validation Dataset\n",
            "  MAE: 2.6 | sMAPE: 10.01 %\n",
            "\n",
            "Best MAE - Test Dataset\n",
            "  MAE: 4.3 | sMAPE: 15.48 %\n",
            "\n",
            "\n",
            "Tested 9/20 iterations.\n",
            "Best MAE - Validation Dataset\n",
            "  MAE: 2.6 | sMAPE: 10.01 %\n",
            "\n",
            "Best MAE - Test Dataset\n",
            "  MAE: 4.3 | sMAPE: 15.48 %\n"
          ]
        },
        {
          "output_type": "stream",
          "name": "stderr",
          "text": [
            "/usr/local/lib/python3.7/dist-packages/keras/optimizer_v2/adam.py:105: UserWarning: The `lr` argument is deprecated, use `learning_rate` instead.\n",
            "  super(Adam, self).__init__(name, **kwargs)\n"
          ]
        },
        {
          "output_type": "stream",
          "name": "stdout",
          "text": [
            "\n",
            "\n",
            "Tested 10/20 iterations.\n",
            "Best MAE - Validation Dataset\n",
            "  MAE: 2.6 | sMAPE: 10.01 %\n",
            "\n",
            "Best MAE - Test Dataset\n",
            "  MAE: 4.3 | sMAPE: 15.48 %\n"
          ]
        },
        {
          "output_type": "stream",
          "name": "stderr",
          "text": [
            "/usr/local/lib/python3.7/dist-packages/keras/optimizer_v2/adam.py:105: UserWarning: The `lr` argument is deprecated, use `learning_rate` instead.\n",
            "  super(Adam, self).__init__(name, **kwargs)\n"
          ]
        },
        {
          "output_type": "stream",
          "name": "stdout",
          "text": [
            "\n",
            "\n",
            "Tested 11/20 iterations.\n",
            "Best MAE - Validation Dataset\n",
            "  MAE: 2.6 | sMAPE: 10.01 %\n",
            "\n",
            "Best MAE - Test Dataset\n",
            "  MAE: 4.3 | sMAPE: 15.48 %\n"
          ]
        },
        {
          "output_type": "stream",
          "name": "stderr",
          "text": [
            "/usr/local/lib/python3.7/dist-packages/keras/optimizer_v2/adam.py:105: UserWarning: The `lr` argument is deprecated, use `learning_rate` instead.\n",
            "  super(Adam, self).__init__(name, **kwargs)\n"
          ]
        },
        {
          "output_type": "stream",
          "name": "stdout",
          "text": [
            "\n",
            "\n",
            "Tested 12/20 iterations.\n",
            "Best MAE - Validation Dataset\n",
            "  MAE: 2.6 | sMAPE: 10.01 %\n",
            "\n",
            "Best MAE - Test Dataset\n",
            "  MAE: 4.3 | sMAPE: 15.48 %\n"
          ]
        },
        {
          "output_type": "stream",
          "name": "stderr",
          "text": [
            "/usr/local/lib/python3.7/dist-packages/keras/optimizer_v2/adam.py:105: UserWarning: The `lr` argument is deprecated, use `learning_rate` instead.\n",
            "  super(Adam, self).__init__(name, **kwargs)\n"
          ]
        },
        {
          "output_type": "stream",
          "name": "stdout",
          "text": [
            "\n",
            "\n",
            "Tested 13/20 iterations.\n",
            "Best MAE - Validation Dataset\n",
            "  MAE: 2.6 | sMAPE: 10.01 %\n",
            "\n",
            "Best MAE - Test Dataset\n",
            "  MAE: 4.3 | sMAPE: 15.48 %\n"
          ]
        },
        {
          "output_type": "stream",
          "name": "stderr",
          "text": [
            "/usr/local/lib/python3.7/dist-packages/keras/optimizer_v2/adam.py:105: UserWarning: The `lr` argument is deprecated, use `learning_rate` instead.\n",
            "  super(Adam, self).__init__(name, **kwargs)\n"
          ]
        },
        {
          "output_type": "stream",
          "name": "stdout",
          "text": [
            "\n",
            "\n",
            "Tested 14/20 iterations.\n",
            "Best MAE - Validation Dataset\n",
            "  MAE: 2.6 | sMAPE: 10.01 %\n",
            "\n",
            "Best MAE - Test Dataset\n",
            "  MAE: 4.3 | sMAPE: 15.48 %\n"
          ]
        },
        {
          "output_type": "stream",
          "name": "stderr",
          "text": [
            "/usr/local/lib/python3.7/dist-packages/keras/optimizer_v2/adam.py:105: UserWarning: The `lr` argument is deprecated, use `learning_rate` instead.\n",
            "  super(Adam, self).__init__(name, **kwargs)\n"
          ]
        },
        {
          "output_type": "stream",
          "name": "stdout",
          "text": [
            "\n",
            "\n",
            "Tested 15/20 iterations.\n",
            "Best MAE - Validation Dataset\n",
            "  MAE: 2.6 | sMAPE: 10.01 %\n",
            "\n",
            "Best MAE - Test Dataset\n",
            "  MAE: 4.3 | sMAPE: 15.48 %\n"
          ]
        },
        {
          "output_type": "stream",
          "name": "stderr",
          "text": [
            "/usr/local/lib/python3.7/dist-packages/keras/optimizer_v2/adam.py:105: UserWarning: The `lr` argument is deprecated, use `learning_rate` instead.\n",
            "  super(Adam, self).__init__(name, **kwargs)\n"
          ]
        },
        {
          "output_type": "stream",
          "name": "stdout",
          "text": [
            "\n",
            "\n",
            "Tested 16/20 iterations.\n",
            "Best MAE - Validation Dataset\n",
            "  MAE: 2.6 | sMAPE: 10.01 %\n",
            "\n",
            "Best MAE - Test Dataset\n",
            "  MAE: 4.3 | sMAPE: 15.48 %\n"
          ]
        },
        {
          "output_type": "stream",
          "name": "stderr",
          "text": [
            "/usr/local/lib/python3.7/dist-packages/keras/optimizer_v2/adam.py:105: UserWarning: The `lr` argument is deprecated, use `learning_rate` instead.\n",
            "  super(Adam, self).__init__(name, **kwargs)\n"
          ]
        },
        {
          "output_type": "stream",
          "name": "stdout",
          "text": [
            "\n",
            "\n",
            "Tested 17/20 iterations.\n",
            "Best MAE - Validation Dataset\n",
            "  MAE: 2.6 | sMAPE: 10.01 %\n",
            "\n",
            "Best MAE - Test Dataset\n",
            "  MAE: 4.3 | sMAPE: 15.48 %\n"
          ]
        },
        {
          "output_type": "stream",
          "name": "stderr",
          "text": [
            "/usr/local/lib/python3.7/dist-packages/keras/optimizer_v2/adam.py:105: UserWarning: The `lr` argument is deprecated, use `learning_rate` instead.\n",
            "  super(Adam, self).__init__(name, **kwargs)\n"
          ]
        },
        {
          "output_type": "stream",
          "name": "stdout",
          "text": [
            "\n",
            "\n",
            "Tested 18/20 iterations.\n",
            "Best MAE - Validation Dataset\n",
            "  MAE: 2.6 | sMAPE: 10.01 %\n",
            "\n",
            "Best MAE - Test Dataset\n",
            "  MAE: 4.3 | sMAPE: 15.48 %\n"
          ]
        },
        {
          "output_type": "stream",
          "name": "stderr",
          "text": [
            "/usr/local/lib/python3.7/dist-packages/keras/optimizer_v2/adam.py:105: UserWarning: The `lr` argument is deprecated, use `learning_rate` instead.\n",
            "  super(Adam, self).__init__(name, **kwargs)\n"
          ]
        },
        {
          "output_type": "stream",
          "name": "stdout",
          "text": [
            "\n",
            "\n",
            "Tested 19/20 iterations.\n",
            "Best MAE - Validation Dataset\n",
            "  MAE: 2.6 | sMAPE: 10.01 %\n",
            "\n",
            "Best MAE - Test Dataset\n",
            "  MAE: 4.3 | sMAPE: 15.48 %\n"
          ]
        },
        {
          "output_type": "stream",
          "name": "stderr",
          "text": [
            "/usr/local/lib/python3.7/dist-packages/keras/optimizer_v2/adam.py:105: UserWarning: The `lr` argument is deprecated, use `learning_rate` instead.\n",
            "  super(Adam, self).__init__(name, **kwargs)\n"
          ]
        }
      ],
      "source": [
        "\"\"\"\n",
        "Example for optimizing the hyperparameter and features of the DNN model\n",
        "\"\"\"\n",
        "\n",
        "# Author: Jesus Lago\n",
        "\n",
        "# License: AGPL-3.0 License\n",
        "\n",
        "\n",
        "from epftoolbox.models import hyperparameter_optimizer\n",
        "\n",
        "# Number of layers in DNN\n",
        "nlayers = 2\n",
        "\n",
        "# Market under study. If it not one of the standard ones, the file name\n",
        "# has to be provided, where the file has to be a csv file\n",
        "dataset = 'PJM'\n",
        "\n",
        "# Number of years (a year is 364 days) in the test dataset.\n",
        "years_test = 1\n",
        "\n",
        "# Optional parameters for selecting the test dataset, if either of them is not provided, \n",
        "# the test dataset is built using the years_test parameter. They should either be one of\n",
        "# the date formats existing in python or a string with the following format\n",
        "# \"%d/%m/%Y %H:%M\"\n",
        "begin_test_date = None\n",
        "end_test_date = None\n",
        "\n",
        "# Boolean that selects whether the validation and training datasets are shuffled\n",
        "shuffle_train = 1\n",
        "\n",
        "# Boolean that selects whether a data augmentation technique for DNNs is used\n",
        "data_augmentation = 0\n",
        "\n",
        "# Boolean that selects whether we start a new hyperparameter optimization or we restart an existing one\n",
        "new_hyperopt = 1\n",
        "\n",
        "# Number of years used in the training dataset for recalibration\n",
        "calibration_window = 1\n",
        "\n",
        "# Unique identifier to read the trials file of hyperparameter optimization\n",
        "experiment_id = 1\n",
        "\n",
        "# Number of iterations for hyperparameter optimization\n",
        "max_evals = 10\n",
        "\n",
        "path_datasets_folder = \"./datasets/\"\n",
        "path_hyperparameters_folder = \"./experimental_files/\"\n",
        "\n",
        "# Check documentation of the hyperparameter_optimizer for each of the function parameters\n",
        "# In this example, we optimize a model for the PJM market.\n",
        "# We consider two directories, one for storing the datasets and the other one for the experimental files.\n",
        "# We start a hyperparameter optimization from scratch. We employ 1500 iterations in hyperopt,\n",
        "# 2 years of test data, a DNN with 2 hidden layers, a calibration window of 4 years,\n",
        "# we avoid data augmentation,  and we provide an experiment_id equal to 1\n",
        "hyperparameter_optimizer(path_datasets_folder=path_datasets_folder, \n",
        "                         path_hyperparameters_folder=path_hyperparameters_folder, \n",
        "                         new_hyperopt=new_hyperopt, max_evals=max_evals, nlayers=nlayers, dataset=dataset, \n",
        "                         years_test=years_test, calibration_window=calibration_window, \n",
        "                         shuffle_train=shuffle_train, data_augmentation=0, experiment_id=experiment_id,\n",
        "                         begin_test_date=begin_test_date, end_test_date=end_test_date)"
      ]
    },
    {
      "cell_type": "code",
      "source": [
        ""
      ],
      "metadata": {
        "colab": {
          "base_uri": "https://localhost:8080/"
        },
        "id": "qV7loIIAgrYr",
        "outputId": "be9b3e05-d648-4087-dc81-597baba6bddd"
      },
      "execution_count": null,
      "outputs": [
        {
          "output_type": "stream",
          "name": "stdout",
          "text": [
            "datasets    examples\t\tLearerrorvalues.csv  setup.cfg\n",
            "docs\t    experimental_files\tLICENSE.txt\t     setup.py\n",
            "epftoolbox  forecasts\t\tREADME.md\n"
          ]
        }
      ]
    },
    {
      "cell_type": "code",
      "source": [
        ""
      ],
      "metadata": {
        "colab": {
          "base_uri": "https://localhost:8080/"
        },
        "id": "LS6vWGvMg_v2",
        "outputId": "0041d318-8811-4eae-fcb4-3d8ff568af76"
      },
      "execution_count": null,
      "outputs": [
        {
          "output_type": "stream",
          "name": "stdout",
          "text": [
            "datasets  epftoolbox  experimental_files  LICENSE.txt  setup.cfg\n",
            "docs\t  examples    forecasts\t\t  README.md    setup.py\n"
          ]
        }
      ]
    },
    {
      "cell_type": "code",
      "source": [
        "\n",
        "\"\"\"\n",
        "Simplified example for using the DNN model for forecasting prices with daily recalibration\n",
        "\"\"\"\n",
        "\n",
        "# Author: Jesus Lago\n",
        "\n",
        "# License: AGPL-3.0 License\n",
        "\n",
        "from epftoolbox.models import evaluate_dnn_in_test_dataset\n",
        "import os\n",
        "\n",
        "# Number of layers in DNN\n",
        "nlayers = 2\n",
        "\n",
        "# Market under study. If it not one of the standard ones, the file name\n",
        "# has to be provided, where the file has to be a csv file\n",
        "dataset = 'PJM'\n",
        "\n",
        "# Number of years (a year is 364 days) in the test dataset.\n",
        "years_test = 1\n",
        "\n",
        "# Boolean that selects whether the validation and training datasets were shuffled when\n",
        "# performing the hyperparameter optimization. Note that it does not select whether\n",
        "# shuffling is used for recalibration as for recalibration the validation and the\n",
        "# training datasets are always shuffled.\n",
        "shuffle_train = 1\n",
        "\n",
        "# Boolean that selects whether a data augmentation technique for DNNs is used\n",
        "data_augmentation = 0\n",
        "\n",
        "# Boolean that selects whether we start a new recalibration or we restart an existing one\n",
        "new_recalibration = 1\n",
        "\n",
        "# Number of years used in the training dataset for recalibration\n",
        "calibration_window = 1\n",
        "\n",
        "# Unique identifier to read the trials file of hyperparameter optimization\n",
        "experiment_id = 1\n",
        "\n",
        "# Optional parameters for selecting the test dataset, if either of them is not provided,\n",
        "# the test dataset is built using the years_test parameter. They should either be one of\n",
        "# the date formats existing in python or a string with the following format\n",
        "# \"%d/%m/%Y %H:%M\"\n",
        "begin_test_date = '26/12/2017'\n",
        "end_test_date = '28/12/2017'\n",
        "\n",
        "# Set up the paths for saving data (this are the defaults for the library)\n",
        "path_datasets_folder = os.path.join('.', 'datasets')\n",
        "path_recalibration_folder = os.path.join('.', 'experimental_files')\n",
        "path_hyperparameter_folder = os.path.join('.', 'experimental_files')\n",
        "\n",
        "evaluate_dnn_in_test_dataset(experiment_id, path_hyperparameter_folder=path_hyperparameter_folder,\n",
        "                               path_datasets_folder=path_datasets_folder, shuffle_train=shuffle_train,\n",
        "                               path_recalibration_folder=path_recalibration_folder,\n",
        "                               nlayers=nlayers, dataset=dataset, years_test=years_test,\n",
        "                               data_augmentation=data_augmentation, calibration_window=calibration_window,\n",
        "                               new_recalibration=new_recalibration, begin_test_date=begin_test_date,\n",
        "                               end_test_date=end_test_date)"
      ],
      "metadata": {
        "colab": {
          "base_uri": "https://localhost:8080/",
          "height": 494
        },
        "id": "uevY16g7fFxo",
        "outputId": "4d38afa1-2c92-42fc-9b83-1adb4df8425c"
      },
      "execution_count": null,
      "outputs": [
        {
          "output_type": "stream",
          "name": "stdout",
          "text": [
            "Test datasets: 2017-12-26 00:00:00 - 2017-12-28 23:00:00\n"
          ]
        },
        {
          "output_type": "stream",
          "name": "stderr",
          "text": [
            "/usr/local/lib/python3.7/dist-packages/keras/optimizer_v2/adam.py:105: UserWarning: The `lr` argument is deprecated, use `learning_rate` instead.\n",
            "  super(Adam, self).__init__(name, **kwargs)\n"
          ]
        },
        {
          "output_type": "stream",
          "name": "stdout",
          "text": [
            "2017-12-26 - sMAPE: 8.31%  |  MAE: 2.577\n"
          ]
        },
        {
          "output_type": "stream",
          "name": "stderr",
          "text": [
            "/usr/local/lib/python3.7/dist-packages/keras/optimizer_v2/adam.py:105: UserWarning: The `lr` argument is deprecated, use `learning_rate` instead.\n",
            "  super(Adam, self).__init__(name, **kwargs)\n"
          ]
        },
        {
          "output_type": "stream",
          "name": "stdout",
          "text": [
            "2017-12-27 - sMAPE: 14.80%  |  MAE: 5.240\n"
          ]
        },
        {
          "output_type": "stream",
          "name": "stderr",
          "text": [
            "/usr/local/lib/python3.7/dist-packages/keras/optimizer_v2/adam.py:105: UserWarning: The `lr` argument is deprecated, use `learning_rate` instead.\n",
            "  super(Adam, self).__init__(name, **kwargs)\n"
          ]
        },
        {
          "output_type": "stream",
          "name": "stdout",
          "text": [
            "2017-12-28 - sMAPE: 21.41%  |  MAE: 8.760\n"
          ]
        },
        {
          "output_type": "execute_result",
          "data": {
            "text/plain": [
              "                   h0         h1         h2         h3         h4         h5  \\\n",
              "Date                                                                           \n",
              "2017-12-26  23.006674  22.330263  22.220232  22.001255   22.49589  24.145916   \n",
              "2017-12-27  24.726645   23.83979  23.366009  23.217424  23.861103  25.610477   \n",
              "2017-12-28   24.81588  23.897818  23.572937  23.155376  23.696238  26.970592   \n",
              "\n",
              "                   h6         h7         h8         h9  ...        h14  \\\n",
              "Date                                                    ...              \n",
              "2017-12-26  29.791901  34.500774  33.230827   33.16703  ...  29.746725   \n",
              "2017-12-27  30.972563  35.260422  33.749977  34.194168  ...  31.441628   \n",
              "2017-12-28  33.770859  38.246811  36.929878  37.670074  ...  36.589153   \n",
              "\n",
              "                  h15        h16        h17        h18        h19        h20  \\\n",
              "Date                                                                           \n",
              "2017-12-26  29.246964   31.49548  36.530518  37.136856  36.381432  35.397587   \n",
              "2017-12-27  31.513466  33.903721  39.948692  38.879402  37.603794  37.880608   \n",
              "2017-12-28  36.545536  38.349625  44.758575  42.594761  41.822662  41.313141   \n",
              "\n",
              "                  h21        h22        h23  \n",
              "Date                                         \n",
              "2017-12-26  31.109636  26.555443  24.385332  \n",
              "2017-12-27  33.421295  28.322048   24.75823  \n",
              "2017-12-28  36.395588  29.382944  26.033188  \n",
              "\n",
              "[3 rows x 24 columns]"
            ],
            "text/html": [
              "\n",
              "  <div id=\"df-5909f7ef-ce0d-47c7-8a6e-ac8e27eb3468\">\n",
              "    <div class=\"colab-df-container\">\n",
              "      <div>\n",
              "<style scoped>\n",
              "    .dataframe tbody tr th:only-of-type {\n",
              "        vertical-align: middle;\n",
              "    }\n",
              "\n",
              "    .dataframe tbody tr th {\n",
              "        vertical-align: top;\n",
              "    }\n",
              "\n",
              "    .dataframe thead th {\n",
              "        text-align: right;\n",
              "    }\n",
              "</style>\n",
              "<table border=\"1\" class=\"dataframe\">\n",
              "  <thead>\n",
              "    <tr style=\"text-align: right;\">\n",
              "      <th></th>\n",
              "      <th>h0</th>\n",
              "      <th>h1</th>\n",
              "      <th>h2</th>\n",
              "      <th>h3</th>\n",
              "      <th>h4</th>\n",
              "      <th>h5</th>\n",
              "      <th>h6</th>\n",
              "      <th>h7</th>\n",
              "      <th>h8</th>\n",
              "      <th>h9</th>\n",
              "      <th>...</th>\n",
              "      <th>h14</th>\n",
              "      <th>h15</th>\n",
              "      <th>h16</th>\n",
              "      <th>h17</th>\n",
              "      <th>h18</th>\n",
              "      <th>h19</th>\n",
              "      <th>h20</th>\n",
              "      <th>h21</th>\n",
              "      <th>h22</th>\n",
              "      <th>h23</th>\n",
              "    </tr>\n",
              "    <tr>\n",
              "      <th>Date</th>\n",
              "      <th></th>\n",
              "      <th></th>\n",
              "      <th></th>\n",
              "      <th></th>\n",
              "      <th></th>\n",
              "      <th></th>\n",
              "      <th></th>\n",
              "      <th></th>\n",
              "      <th></th>\n",
              "      <th></th>\n",
              "      <th></th>\n",
              "      <th></th>\n",
              "      <th></th>\n",
              "      <th></th>\n",
              "      <th></th>\n",
              "      <th></th>\n",
              "      <th></th>\n",
              "      <th></th>\n",
              "      <th></th>\n",
              "      <th></th>\n",
              "      <th></th>\n",
              "    </tr>\n",
              "  </thead>\n",
              "  <tbody>\n",
              "    <tr>\n",
              "      <th>2017-12-26</th>\n",
              "      <td>23.006674</td>\n",
              "      <td>22.330263</td>\n",
              "      <td>22.220232</td>\n",
              "      <td>22.001255</td>\n",
              "      <td>22.49589</td>\n",
              "      <td>24.145916</td>\n",
              "      <td>29.791901</td>\n",
              "      <td>34.500774</td>\n",
              "      <td>33.230827</td>\n",
              "      <td>33.16703</td>\n",
              "      <td>...</td>\n",
              "      <td>29.746725</td>\n",
              "      <td>29.246964</td>\n",
              "      <td>31.49548</td>\n",
              "      <td>36.530518</td>\n",
              "      <td>37.136856</td>\n",
              "      <td>36.381432</td>\n",
              "      <td>35.397587</td>\n",
              "      <td>31.109636</td>\n",
              "      <td>26.555443</td>\n",
              "      <td>24.385332</td>\n",
              "    </tr>\n",
              "    <tr>\n",
              "      <th>2017-12-27</th>\n",
              "      <td>24.726645</td>\n",
              "      <td>23.83979</td>\n",
              "      <td>23.366009</td>\n",
              "      <td>23.217424</td>\n",
              "      <td>23.861103</td>\n",
              "      <td>25.610477</td>\n",
              "      <td>30.972563</td>\n",
              "      <td>35.260422</td>\n",
              "      <td>33.749977</td>\n",
              "      <td>34.194168</td>\n",
              "      <td>...</td>\n",
              "      <td>31.441628</td>\n",
              "      <td>31.513466</td>\n",
              "      <td>33.903721</td>\n",
              "      <td>39.948692</td>\n",
              "      <td>38.879402</td>\n",
              "      <td>37.603794</td>\n",
              "      <td>37.880608</td>\n",
              "      <td>33.421295</td>\n",
              "      <td>28.322048</td>\n",
              "      <td>24.75823</td>\n",
              "    </tr>\n",
              "    <tr>\n",
              "      <th>2017-12-28</th>\n",
              "      <td>24.81588</td>\n",
              "      <td>23.897818</td>\n",
              "      <td>23.572937</td>\n",
              "      <td>23.155376</td>\n",
              "      <td>23.696238</td>\n",
              "      <td>26.970592</td>\n",
              "      <td>33.770859</td>\n",
              "      <td>38.246811</td>\n",
              "      <td>36.929878</td>\n",
              "      <td>37.670074</td>\n",
              "      <td>...</td>\n",
              "      <td>36.589153</td>\n",
              "      <td>36.545536</td>\n",
              "      <td>38.349625</td>\n",
              "      <td>44.758575</td>\n",
              "      <td>42.594761</td>\n",
              "      <td>41.822662</td>\n",
              "      <td>41.313141</td>\n",
              "      <td>36.395588</td>\n",
              "      <td>29.382944</td>\n",
              "      <td>26.033188</td>\n",
              "    </tr>\n",
              "  </tbody>\n",
              "</table>\n",
              "<p>3 rows × 24 columns</p>\n",
              "</div>\n",
              "      <button class=\"colab-df-convert\" onclick=\"convertToInteractive('df-5909f7ef-ce0d-47c7-8a6e-ac8e27eb3468')\"\n",
              "              title=\"Convert this dataframe to an interactive table.\"\n",
              "              style=\"display:none;\">\n",
              "        \n",
              "  <svg xmlns=\"http://www.w3.org/2000/svg\" height=\"24px\"viewBox=\"0 0 24 24\"\n",
              "       width=\"24px\">\n",
              "    <path d=\"M0 0h24v24H0V0z\" fill=\"none\"/>\n",
              "    <path d=\"M18.56 5.44l.94 2.06.94-2.06 2.06-.94-2.06-.94-.94-2.06-.94 2.06-2.06.94zm-11 1L8.5 8.5l.94-2.06 2.06-.94-2.06-.94L8.5 2.5l-.94 2.06-2.06.94zm10 10l.94 2.06.94-2.06 2.06-.94-2.06-.94-.94-2.06-.94 2.06-2.06.94z\"/><path d=\"M17.41 7.96l-1.37-1.37c-.4-.4-.92-.59-1.43-.59-.52 0-1.04.2-1.43.59L10.3 9.45l-7.72 7.72c-.78.78-.78 2.05 0 2.83L4 21.41c.39.39.9.59 1.41.59.51 0 1.02-.2 1.41-.59l7.78-7.78 2.81-2.81c.8-.78.8-2.07 0-2.86zM5.41 20L4 18.59l7.72-7.72 1.47 1.35L5.41 20z\"/>\n",
              "  </svg>\n",
              "      </button>\n",
              "      \n",
              "  <style>\n",
              "    .colab-df-container {\n",
              "      display:flex;\n",
              "      flex-wrap:wrap;\n",
              "      gap: 12px;\n",
              "    }\n",
              "\n",
              "    .colab-df-convert {\n",
              "      background-color: #E8F0FE;\n",
              "      border: none;\n",
              "      border-radius: 50%;\n",
              "      cursor: pointer;\n",
              "      display: none;\n",
              "      fill: #1967D2;\n",
              "      height: 32px;\n",
              "      padding: 0 0 0 0;\n",
              "      width: 32px;\n",
              "    }\n",
              "\n",
              "    .colab-df-convert:hover {\n",
              "      background-color: #E2EBFA;\n",
              "      box-shadow: 0px 1px 2px rgba(60, 64, 67, 0.3), 0px 1px 3px 1px rgba(60, 64, 67, 0.15);\n",
              "      fill: #174EA6;\n",
              "    }\n",
              "\n",
              "    [theme=dark] .colab-df-convert {\n",
              "      background-color: #3B4455;\n",
              "      fill: #D2E3FC;\n",
              "    }\n",
              "\n",
              "    [theme=dark] .colab-df-convert:hover {\n",
              "      background-color: #434B5C;\n",
              "      box-shadow: 0px 1px 3px 1px rgba(0, 0, 0, 0.15);\n",
              "      filter: drop-shadow(0px 1px 2px rgba(0, 0, 0, 0.3));\n",
              "      fill: #FFFFFF;\n",
              "    }\n",
              "  </style>\n",
              "\n",
              "      <script>\n",
              "        const buttonEl =\n",
              "          document.querySelector('#df-5909f7ef-ce0d-47c7-8a6e-ac8e27eb3468 button.colab-df-convert');\n",
              "        buttonEl.style.display =\n",
              "          google.colab.kernel.accessAllowed ? 'block' : 'none';\n",
              "\n",
              "        async function convertToInteractive(key) {\n",
              "          const element = document.querySelector('#df-5909f7ef-ce0d-47c7-8a6e-ac8e27eb3468');\n",
              "          const dataTable =\n",
              "            await google.colab.kernel.invokeFunction('convertToInteractive',\n",
              "                                                     [key], {});\n",
              "          if (!dataTable) return;\n",
              "\n",
              "          const docLinkHtml = 'Like what you see? Visit the ' +\n",
              "            '<a target=\"_blank\" href=https://colab.research.google.com/notebooks/data_table.ipynb>data table notebook</a>'\n",
              "            + ' to learn more about interactive tables.';\n",
              "          element.innerHTML = '';\n",
              "          dataTable['output_type'] = 'display_data';\n",
              "          await google.colab.output.renderOutput(dataTable, element);\n",
              "          const docLink = document.createElement('div');\n",
              "          docLink.innerHTML = docLinkHtml;\n",
              "          element.appendChild(docLink);\n",
              "        }\n",
              "      </script>\n",
              "    </div>\n",
              "  </div>\n",
              "  "
            ]
          },
          "metadata": {},
          "execution_count": 62
        }
      ]
    },
    {
      "cell_type": "code",
      "source": [
        "#after running lear model\n",
        "\n",
        "import pandas as pd\n",
        "# df2=pd.read_csv(\"DNNerrorvalues.csv\")\n",
        "df=pd.read_csv(\"Learerrorvalues.csv\")\n",
        "print(df.to_string(index=False))\n",
        "# print(df2.to_string(index=False))"
      ],
      "metadata": {
        "colab": {
          "base_uri": "https://localhost:8080/"
        },
        "id": "s73zVN3GEz5A",
        "outputId": "cd6e310f-2801-4748-bac7-53e3c641895c"
      },
      "execution_count": null,
      "outputs": [
        {
          "output_type": "stream",
          "name": "stdout",
          "text": [
            " Unnamed: 0       MAE      SMAE\n",
            "          0  2.298473  7.572970\n",
            "          1  3.658866 10.263977\n",
            "          2  6.883241 16.041041\n",
            "          3  9.560009 20.704499\n",
            "          4  9.786644 22.369306\n",
            "          5  9.415767 21.989390\n",
            "          6  8.922184 20.872598\n",
            "          7 10.890356 22.969314\n",
            "          8 11.862798 23.750341\n",
            "          9 12.296526 23.576713\n",
            "         10 12.957405 23.579740\n",
            "         11 14.331506 27.694617\n",
            "         12 13.918607 27.557871\n",
            "         13 13.322772 26.624158\n",
            "         14 13.299193 27.123842\n",
            "         15 13.032140 27.632856\n",
            "         16 12.509289 27.784071\n",
            "         17 11.961951 26.778855\n",
            "         18 12.066191 26.985887\n",
            "         19 12.404841 27.517428\n",
            "         20 12.262762 27.127564\n",
            "         21 11.873682 26.289080\n",
            "         22 11.872276 26.183372\n",
            "         23 11.656567 25.846349\n",
            "         24 11.359895 25.382000\n",
            "         25 11.016872 24.845589\n",
            "         26 10.676963 24.212697\n",
            "         27 10.420720 23.870856\n",
            "         28 10.157713 23.402760\n",
            "         29  9.877494 22.824022\n",
            "         30  9.628721 22.295702\n",
            "         31  9.419907 21.957170\n"
          ]
        }
      ]
    },
    {
      "cell_type": "code",
      "source": [
        "from epftoolbox.evaluation import DM, plot_multivariate_DM_test\n",
        "from epftoolbox.data import read_data\n",
        "import pandas as pd\n",
        "forecasts = pd.read_csv('https://raw.githubusercontent.com/jeslago/epftoolbox/master/forecasts/Forecasts_NP_DNN_LEAR_ensembles.csv', index_col=0)\n",
        "del forecasts['Real price']\n",
        "forecasts.index = pd.to_datetime(forecasts.index)\n",
        "_, df_test = read_data(path='.', dataset='NP', begin_test_date=forecasts.index[0],end_test_date=forecasts.index[-1])\n",
        "real_price = df_test.loc[:, ['Price']]\n",
        "plot_multivariate_DM_test(real_price=real_price, forecasts=forecasts)"
      ],
      "metadata": {
        "colab": {
          "base_uri": "https://localhost:8080/",
          "height": 314
        },
        "id": "6M-KusV9GV3D",
        "outputId": "a6e71bf2-aba5-4f66-fbe4-b97e8ba99543"
      },
      "execution_count": null,
      "outputs": [
        {
          "output_type": "stream",
          "name": "stdout",
          "text": [
            "Test datasets: 2016-12-27 00:00:00 - 2018-12-24 23:00:00\n"
          ]
        },
        {
          "output_type": "display_data",
          "data": {
            "text/plain": [
              "<Figure size 432x288 with 2 Axes>"
            ],
            "image/png": "[encoded data removed]"
          },
          "metadata": {
            "needs_background": "light"
          }
        }
      ]
    }
  ],
  "metadata": {
    "colab": {
      "name": "modelevaluationtask.ipynb",
      "provenance": [],
      "collapsed_sections": [],
      "authorship_tag": "ABX9TyPzf+FRSYo7wwW0MeMDHoXS",
      "include_colab_link": true
    },
    "kernelspec": {
      "display_name": "Python 3",
      "name": "python3"
    },
    "language_info": {
      "name": "python"
    }
  },
  "nbformat": 4,
  "nbformat_minor": 0
}